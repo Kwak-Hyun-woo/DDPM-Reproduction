{
 "cells": [
  {
   "cell_type": "code",
   "execution_count": 1,
   "metadata": {},
   "outputs": [
    {
     "name": "stderr",
     "output_type": "stream",
     "text": [
      "/home/khw5218/miniconda3/envs/diffusion/lib/python3.9/site-packages/tqdm/auto.py:21: TqdmWarning: IProgress not found. Please update jupyter and ipywidgets. See https://ipywidgets.readthedocs.io/en/stable/user_install.html\n",
      "  from .autonotebook import tqdm as notebook_tqdm\n"
     ]
    }
   ],
   "source": [
    "import torch \n",
    "import torch.nn as nn\n",
    "from torch.utils.tensorboard import SummaryWriter\n",
    "from torchvision import transforms, datasets\n",
    "from torchvision.io import read_image\n",
    "import matplotlib.pyplot as plt\n",
    "from model import Unet\n",
    "from train import sample"
   ]
  },
  {
   "cell_type": "code",
   "execution_count": 2,
   "metadata": {},
   "outputs": [],
   "source": [
    "image_size = 28\n",
    "channels = 3\n",
    "timesteps = 200\n",
    "# sample: (timestamps, 3, img size, img size)"
   ]
  },
  {
   "cell_type": "code",
   "execution_count": 3,
   "metadata": {},
   "outputs": [],
   "source": [
    "device = torch.device(\"cuda\")"
   ]
  },
  {
   "cell_type": "code",
   "execution_count": 4,
   "metadata": {},
   "outputs": [
    {
     "data": {
      "text/plain": [
       "<All keys matched successfully>"
      ]
     },
     "execution_count": 4,
     "metadata": {},
     "output_type": "execute_result"
    }
   ],
   "source": [
    "model = Unet(\n",
    "    dim=image_size,\n",
    "    channels=channels,\n",
    "    dim_mults=(1, 2, 4,)\n",
    ")\n",
    "model = nn.DataParallel(model)\n",
    "check_point = torch.load(\"./checkpoint_scratch/step1200_model.tar\")\n",
    "model.load_state_dict(check_point['model_state_dict'])\n"
   ]
  },
  {
   "cell_type": "code",
   "execution_count": 5,
   "metadata": {},
   "outputs": [
    {
     "data": {
      "text/plain": [
       "DataParallel(\n",
       "  (module): Unet(\n",
       "    (init_conv): Conv2d(3, 18, kernel_size=(7, 7), stride=(1, 1), padding=(3, 3))\n",
       "    (time_mlp): Sequential(\n",
       "      (0): SinusoidalPositionEmbeddings()\n",
       "      (1): Linear(in_features=28, out_features=112, bias=True)\n",
       "      (2): GELU(approximate='none')\n",
       "      (3): Linear(in_features=112, out_features=112, bias=True)\n",
       "    )\n",
       "    (downs): ModuleList(\n",
       "      (0): ModuleList(\n",
       "        (0): ConvNextBlock(\n",
       "          (mlp): Sequential(\n",
       "            (0): GELU(approximate='none')\n",
       "            (1): Linear(in_features=112, out_features=18, bias=True)\n",
       "          )\n",
       "          (ds_conv): Conv2d(18, 18, kernel_size=(7, 7), stride=(1, 1), padding=(3, 3), groups=18)\n",
       "          (net): Sequential(\n",
       "            (0): GroupNorm(1, 18, eps=1e-05, affine=True)\n",
       "            (1): Conv2d(18, 56, kernel_size=(3, 3), stride=(1, 1), padding=(1, 1))\n",
       "            (2): GELU(approximate='none')\n",
       "            (3): GroupNorm(1, 56, eps=1e-05, affine=True)\n",
       "            (4): Conv2d(56, 28, kernel_size=(3, 3), stride=(1, 1), padding=(1, 1))\n",
       "          )\n",
       "          (res_conv): Conv2d(18, 28, kernel_size=(1, 1), stride=(1, 1))\n",
       "        )\n",
       "        (1): ConvNextBlock(\n",
       "          (mlp): Sequential(\n",
       "            (0): GELU(approximate='none')\n",
       "            (1): Linear(in_features=112, out_features=28, bias=True)\n",
       "          )\n",
       "          (ds_conv): Conv2d(28, 28, kernel_size=(7, 7), stride=(1, 1), padding=(3, 3), groups=28)\n",
       "          (net): Sequential(\n",
       "            (0): GroupNorm(1, 28, eps=1e-05, affine=True)\n",
       "            (1): Conv2d(28, 56, kernel_size=(3, 3), stride=(1, 1), padding=(1, 1))\n",
       "            (2): GELU(approximate='none')\n",
       "            (3): GroupNorm(1, 56, eps=1e-05, affine=True)\n",
       "            (4): Conv2d(56, 28, kernel_size=(3, 3), stride=(1, 1), padding=(1, 1))\n",
       "          )\n",
       "          (res_conv): Identity()\n",
       "        )\n",
       "        (2): Residual(\n",
       "          (fn): PreNorm(\n",
       "            (fn): LinearAttention(\n",
       "              (to_qkv): Conv2d(28, 384, kernel_size=(1, 1), stride=(1, 1), bias=False)\n",
       "              (to_out): Sequential(\n",
       "                (0): Conv2d(128, 28, kernel_size=(1, 1), stride=(1, 1))\n",
       "                (1): GroupNorm(1, 28, eps=1e-05, affine=True)\n",
       "              )\n",
       "            )\n",
       "            (norm): GroupNorm(1, 28, eps=1e-05, affine=True)\n",
       "          )\n",
       "        )\n",
       "        (3): Conv2d(28, 28, kernel_size=(4, 4), stride=(2, 2), padding=(1, 1))\n",
       "      )\n",
       "      (1): ModuleList(\n",
       "        (0): ConvNextBlock(\n",
       "          (mlp): Sequential(\n",
       "            (0): GELU(approximate='none')\n",
       "            (1): Linear(in_features=112, out_features=28, bias=True)\n",
       "          )\n",
       "          (ds_conv): Conv2d(28, 28, kernel_size=(7, 7), stride=(1, 1), padding=(3, 3), groups=28)\n",
       "          (net): Sequential(\n",
       "            (0): GroupNorm(1, 28, eps=1e-05, affine=True)\n",
       "            (1): Conv2d(28, 112, kernel_size=(3, 3), stride=(1, 1), padding=(1, 1))\n",
       "            (2): GELU(approximate='none')\n",
       "            (3): GroupNorm(1, 112, eps=1e-05, affine=True)\n",
       "            (4): Conv2d(112, 56, kernel_size=(3, 3), stride=(1, 1), padding=(1, 1))\n",
       "          )\n",
       "          (res_conv): Conv2d(28, 56, kernel_size=(1, 1), stride=(1, 1))\n",
       "        )\n",
       "        (1): ConvNextBlock(\n",
       "          (mlp): Sequential(\n",
       "            (0): GELU(approximate='none')\n",
       "            (1): Linear(in_features=112, out_features=56, bias=True)\n",
       "          )\n",
       "          (ds_conv): Conv2d(56, 56, kernel_size=(7, 7), stride=(1, 1), padding=(3, 3), groups=56)\n",
       "          (net): Sequential(\n",
       "            (0): GroupNorm(1, 56, eps=1e-05, affine=True)\n",
       "            (1): Conv2d(56, 112, kernel_size=(3, 3), stride=(1, 1), padding=(1, 1))\n",
       "            (2): GELU(approximate='none')\n",
       "            (3): GroupNorm(1, 112, eps=1e-05, affine=True)\n",
       "            (4): Conv2d(112, 56, kernel_size=(3, 3), stride=(1, 1), padding=(1, 1))\n",
       "          )\n",
       "          (res_conv): Identity()\n",
       "        )\n",
       "        (2): Residual(\n",
       "          (fn): PreNorm(\n",
       "            (fn): LinearAttention(\n",
       "              (to_qkv): Conv2d(56, 384, kernel_size=(1, 1), stride=(1, 1), bias=False)\n",
       "              (to_out): Sequential(\n",
       "                (0): Conv2d(128, 56, kernel_size=(1, 1), stride=(1, 1))\n",
       "                (1): GroupNorm(1, 56, eps=1e-05, affine=True)\n",
       "              )\n",
       "            )\n",
       "            (norm): GroupNorm(1, 56, eps=1e-05, affine=True)\n",
       "          )\n",
       "        )\n",
       "        (3): Conv2d(56, 56, kernel_size=(4, 4), stride=(2, 2), padding=(1, 1))\n",
       "      )\n",
       "      (2): ModuleList(\n",
       "        (0): ConvNextBlock(\n",
       "          (mlp): Sequential(\n",
       "            (0): GELU(approximate='none')\n",
       "            (1): Linear(in_features=112, out_features=56, bias=True)\n",
       "          )\n",
       "          (ds_conv): Conv2d(56, 56, kernel_size=(7, 7), stride=(1, 1), padding=(3, 3), groups=56)\n",
       "          (net): Sequential(\n",
       "            (0): GroupNorm(1, 56, eps=1e-05, affine=True)\n",
       "            (1): Conv2d(56, 224, kernel_size=(3, 3), stride=(1, 1), padding=(1, 1))\n",
       "            (2): GELU(approximate='none')\n",
       "            (3): GroupNorm(1, 224, eps=1e-05, affine=True)\n",
       "            (4): Conv2d(224, 112, kernel_size=(3, 3), stride=(1, 1), padding=(1, 1))\n",
       "          )\n",
       "          (res_conv): Conv2d(56, 112, kernel_size=(1, 1), stride=(1, 1))\n",
       "        )\n",
       "        (1): ConvNextBlock(\n",
       "          (mlp): Sequential(\n",
       "            (0): GELU(approximate='none')\n",
       "            (1): Linear(in_features=112, out_features=112, bias=True)\n",
       "          )\n",
       "          (ds_conv): Conv2d(112, 112, kernel_size=(7, 7), stride=(1, 1), padding=(3, 3), groups=112)\n",
       "          (net): Sequential(\n",
       "            (0): GroupNorm(1, 112, eps=1e-05, affine=True)\n",
       "            (1): Conv2d(112, 224, kernel_size=(3, 3), stride=(1, 1), padding=(1, 1))\n",
       "            (2): GELU(approximate='none')\n",
       "            (3): GroupNorm(1, 224, eps=1e-05, affine=True)\n",
       "            (4): Conv2d(224, 112, kernel_size=(3, 3), stride=(1, 1), padding=(1, 1))\n",
       "          )\n",
       "          (res_conv): Identity()\n",
       "        )\n",
       "        (2): Residual(\n",
       "          (fn): PreNorm(\n",
       "            (fn): LinearAttention(\n",
       "              (to_qkv): Conv2d(112, 384, kernel_size=(1, 1), stride=(1, 1), bias=False)\n",
       "              (to_out): Sequential(\n",
       "                (0): Conv2d(128, 112, kernel_size=(1, 1), stride=(1, 1))\n",
       "                (1): GroupNorm(1, 112, eps=1e-05, affine=True)\n",
       "              )\n",
       "            )\n",
       "            (norm): GroupNorm(1, 112, eps=1e-05, affine=True)\n",
       "          )\n",
       "        )\n",
       "        (3): Identity()\n",
       "      )\n",
       "    )\n",
       "    (ups): ModuleList(\n",
       "      (0): ModuleList(\n",
       "        (0): ConvNextBlock(\n",
       "          (mlp): Sequential(\n",
       "            (0): GELU(approximate='none')\n",
       "            (1): Linear(in_features=112, out_features=224, bias=True)\n",
       "          )\n",
       "          (ds_conv): Conv2d(224, 224, kernel_size=(7, 7), stride=(1, 1), padding=(3, 3), groups=224)\n",
       "          (net): Sequential(\n",
       "            (0): GroupNorm(1, 224, eps=1e-05, affine=True)\n",
       "            (1): Conv2d(224, 112, kernel_size=(3, 3), stride=(1, 1), padding=(1, 1))\n",
       "            (2): GELU(approximate='none')\n",
       "            (3): GroupNorm(1, 112, eps=1e-05, affine=True)\n",
       "            (4): Conv2d(112, 56, kernel_size=(3, 3), stride=(1, 1), padding=(1, 1))\n",
       "          )\n",
       "          (res_conv): Conv2d(224, 56, kernel_size=(1, 1), stride=(1, 1))\n",
       "        )\n",
       "        (1): ConvNextBlock(\n",
       "          (mlp): Sequential(\n",
       "            (0): GELU(approximate='none')\n",
       "            (1): Linear(in_features=112, out_features=56, bias=True)\n",
       "          )\n",
       "          (ds_conv): Conv2d(56, 56, kernel_size=(7, 7), stride=(1, 1), padding=(3, 3), groups=56)\n",
       "          (net): Sequential(\n",
       "            (0): GroupNorm(1, 56, eps=1e-05, affine=True)\n",
       "            (1): Conv2d(56, 112, kernel_size=(3, 3), stride=(1, 1), padding=(1, 1))\n",
       "            (2): GELU(approximate='none')\n",
       "            (3): GroupNorm(1, 112, eps=1e-05, affine=True)\n",
       "            (4): Conv2d(112, 56, kernel_size=(3, 3), stride=(1, 1), padding=(1, 1))\n",
       "          )\n",
       "          (res_conv): Identity()\n",
       "        )\n",
       "        (2): Residual(\n",
       "          (fn): PreNorm(\n",
       "            (fn): LinearAttention(\n",
       "              (to_qkv): Conv2d(56, 384, kernel_size=(1, 1), stride=(1, 1), bias=False)\n",
       "              (to_out): Sequential(\n",
       "                (0): Conv2d(128, 56, kernel_size=(1, 1), stride=(1, 1))\n",
       "                (1): GroupNorm(1, 56, eps=1e-05, affine=True)\n",
       "              )\n",
       "            )\n",
       "            (norm): GroupNorm(1, 56, eps=1e-05, affine=True)\n",
       "          )\n",
       "        )\n",
       "        (3): ConvTranspose2d(56, 56, kernel_size=(4, 4), stride=(2, 2), padding=(1, 1))\n",
       "      )\n",
       "      (1): ModuleList(\n",
       "        (0): ConvNextBlock(\n",
       "          (mlp): Sequential(\n",
       "            (0): GELU(approximate='none')\n",
       "            (1): Linear(in_features=112, out_features=112, bias=True)\n",
       "          )\n",
       "          (ds_conv): Conv2d(112, 112, kernel_size=(7, 7), stride=(1, 1), padding=(3, 3), groups=112)\n",
       "          (net): Sequential(\n",
       "            (0): GroupNorm(1, 112, eps=1e-05, affine=True)\n",
       "            (1): Conv2d(112, 56, kernel_size=(3, 3), stride=(1, 1), padding=(1, 1))\n",
       "            (2): GELU(approximate='none')\n",
       "            (3): GroupNorm(1, 56, eps=1e-05, affine=True)\n",
       "            (4): Conv2d(56, 28, kernel_size=(3, 3), stride=(1, 1), padding=(1, 1))\n",
       "          )\n",
       "          (res_conv): Conv2d(112, 28, kernel_size=(1, 1), stride=(1, 1))\n",
       "        )\n",
       "        (1): ConvNextBlock(\n",
       "          (mlp): Sequential(\n",
       "            (0): GELU(approximate='none')\n",
       "            (1): Linear(in_features=112, out_features=28, bias=True)\n",
       "          )\n",
       "          (ds_conv): Conv2d(28, 28, kernel_size=(7, 7), stride=(1, 1), padding=(3, 3), groups=28)\n",
       "          (net): Sequential(\n",
       "            (0): GroupNorm(1, 28, eps=1e-05, affine=True)\n",
       "            (1): Conv2d(28, 56, kernel_size=(3, 3), stride=(1, 1), padding=(1, 1))\n",
       "            (2): GELU(approximate='none')\n",
       "            (3): GroupNorm(1, 56, eps=1e-05, affine=True)\n",
       "            (4): Conv2d(56, 28, kernel_size=(3, 3), stride=(1, 1), padding=(1, 1))\n",
       "          )\n",
       "          (res_conv): Identity()\n",
       "        )\n",
       "        (2): Residual(\n",
       "          (fn): PreNorm(\n",
       "            (fn): LinearAttention(\n",
       "              (to_qkv): Conv2d(28, 384, kernel_size=(1, 1), stride=(1, 1), bias=False)\n",
       "              (to_out): Sequential(\n",
       "                (0): Conv2d(128, 28, kernel_size=(1, 1), stride=(1, 1))\n",
       "                (1): GroupNorm(1, 28, eps=1e-05, affine=True)\n",
       "              )\n",
       "            )\n",
       "            (norm): GroupNorm(1, 28, eps=1e-05, affine=True)\n",
       "          )\n",
       "        )\n",
       "        (3): ConvTranspose2d(28, 28, kernel_size=(4, 4), stride=(2, 2), padding=(1, 1))\n",
       "      )\n",
       "    )\n",
       "    (mid_block1): ConvNextBlock(\n",
       "      (mlp): Sequential(\n",
       "        (0): GELU(approximate='none')\n",
       "        (1): Linear(in_features=112, out_features=112, bias=True)\n",
       "      )\n",
       "      (ds_conv): Conv2d(112, 112, kernel_size=(7, 7), stride=(1, 1), padding=(3, 3), groups=112)\n",
       "      (net): Sequential(\n",
       "        (0): GroupNorm(1, 112, eps=1e-05, affine=True)\n",
       "        (1): Conv2d(112, 224, kernel_size=(3, 3), stride=(1, 1), padding=(1, 1))\n",
       "        (2): GELU(approximate='none')\n",
       "        (3): GroupNorm(1, 224, eps=1e-05, affine=True)\n",
       "        (4): Conv2d(224, 112, kernel_size=(3, 3), stride=(1, 1), padding=(1, 1))\n",
       "      )\n",
       "      (res_conv): Identity()\n",
       "    )\n",
       "    (mid_attn): Residual(\n",
       "      (fn): PreNorm(\n",
       "        (fn): Attention(\n",
       "          (to_qkv): Conv2d(112, 384, kernel_size=(1, 1), stride=(1, 1), bias=False)\n",
       "          (to_out): Conv2d(128, 112, kernel_size=(1, 1), stride=(1, 1))\n",
       "        )\n",
       "        (norm): GroupNorm(1, 112, eps=1e-05, affine=True)\n",
       "      )\n",
       "    )\n",
       "    (mid_block2): ConvNextBlock(\n",
       "      (mlp): Sequential(\n",
       "        (0): GELU(approximate='none')\n",
       "        (1): Linear(in_features=112, out_features=112, bias=True)\n",
       "      )\n",
       "      (ds_conv): Conv2d(112, 112, kernel_size=(7, 7), stride=(1, 1), padding=(3, 3), groups=112)\n",
       "      (net): Sequential(\n",
       "        (0): GroupNorm(1, 112, eps=1e-05, affine=True)\n",
       "        (1): Conv2d(112, 224, kernel_size=(3, 3), stride=(1, 1), padding=(1, 1))\n",
       "        (2): GELU(approximate='none')\n",
       "        (3): GroupNorm(1, 224, eps=1e-05, affine=True)\n",
       "        (4): Conv2d(224, 112, kernel_size=(3, 3), stride=(1, 1), padding=(1, 1))\n",
       "      )\n",
       "      (res_conv): Identity()\n",
       "    )\n",
       "    (final_conv): Sequential(\n",
       "      (0): ConvNextBlock(\n",
       "        (ds_conv): Conv2d(28, 28, kernel_size=(7, 7), stride=(1, 1), padding=(3, 3), groups=28)\n",
       "        (net): Sequential(\n",
       "          (0): GroupNorm(1, 28, eps=1e-05, affine=True)\n",
       "          (1): Conv2d(28, 56, kernel_size=(3, 3), stride=(1, 1), padding=(1, 1))\n",
       "          (2): GELU(approximate='none')\n",
       "          (3): GroupNorm(1, 56, eps=1e-05, affine=True)\n",
       "          (4): Conv2d(56, 28, kernel_size=(3, 3), stride=(1, 1), padding=(1, 1))\n",
       "        )\n",
       "        (res_conv): Identity()\n",
       "      )\n",
       "      (1): Conv2d(28, 3, kernel_size=(1, 1), stride=(1, 1))\n",
       "    )\n",
       "  )\n",
       ")"
      ]
     },
     "execution_count": 5,
     "metadata": {},
     "output_type": "execute_result"
    }
   ],
   "source": [
    "model.to(\"cuda\")"
   ]
  },
  {
   "cell_type": "code",
   "execution_count": 6,
   "metadata": {},
   "outputs": [
    {
     "name": "stderr",
     "output_type": "stream",
     "text": [
      "sampling loop time step: 100%|██████████| 200/200 [01:04<00:00,  3.11it/s]\n"
     ]
    }
   ],
   "source": [
    "samples = sample(model, image_size=image_size, batch_size=64, channels=channels)"
   ]
  },
  {
   "cell_type": "code",
   "execution_count": 8,
   "metadata": {},
   "outputs": [
    {
     "data": {
      "text/plain": [
       "torch.Size([200, 64, 3, 28, 28])"
      ]
     },
     "execution_count": 8,
     "metadata": {},
     "output_type": "execute_result"
    }
   ],
   "source": [
    "samples.shape"
   ]
  },
  {
   "cell_type": "code",
   "execution_count": 27,
   "metadata": {},
   "outputs": [
    {
     "name": "stdout",
     "output_type": "stream",
     "text": [
      "torch.Size([200, 3, 28, 28]) tensor(-3.5462) tensor(3.7427)\n"
     ]
    },
    {
     "data": {
      "image/png": "[encoded data removed]",
      "text/plain": [
       "<Figure size 640x480 with 1 Axes>"
      ]
     },
     "metadata": {},
     "output_type": "display_data"
    }
   ],
   "source": [
    "import matplotlib.animation as animation\n",
    "%matplotlib inline\n",
    "\n",
    "random_index = 1\n",
    "images = samples[:, random_index, ...].squeeze()\n",
    "# images = (images - images.min()) / (images.max() - images.min())\n",
    "print(images.size(), images.min(), images.max())\n",
    "fig, ax = plt.subplots()\n",
    "ims = []\n",
    "for i in range(timesteps):\n",
    "    tmp = images[i]\n",
    "    tmp = (tmp - tmp.min()) / (tmp.max() - tmp.min())\n",
    "    im = ax.imshow(tmp.permute(1, 2, 0), animated=True)\n",
    "    ims.append([im])\n",
    "animate = animation.ArtistAnimation(fig, ims, interval=50, blit=True, repeat_delay=1000)\n",
    "animate.save('diffusion_{:0>2}.gif'.format(random_index), writer=\"pillow\")"
   ]
  },
  {
   "cell_type": "code",
   "execution_count": 20,
   "metadata": {},
   "outputs": [
    {
     "ename": "RuntimeError",
     "evalue": "shape '[28, 28, 3]' is invalid for input of size 181984",
     "output_type": "error",
     "traceback": [
      "\u001b[0;31m---------------------------------------------------------------------------\u001b[0m",
      "\u001b[0;31mRuntimeError\u001b[0m                              Traceback (most recent call last)",
      "\u001b[1;32m/home/khw5218/diffusion/Scratch-Diffusion/playground.ipynb 셀 3\u001b[0m line \u001b[0;36m8\n\u001b[1;32m      <a href='vscode-notebook-cell://ssh-remote%2B10.150.21.71/home/khw5218/diffusion/Scratch-Diffusion/playground.ipynb#X20sdnNjb2RlLXJlbW90ZQ%3D%3D?line=5'>6</a>\u001b[0m ims \u001b[39m=\u001b[39m []\n\u001b[1;32m      <a href='vscode-notebook-cell://ssh-remote%2B10.150.21.71/home/khw5218/diffusion/Scratch-Diffusion/playground.ipynb#X20sdnNjb2RlLXJlbW90ZQ%3D%3D?line=6'>7</a>\u001b[0m \u001b[39mfor\u001b[39;00m i \u001b[39min\u001b[39;00m \u001b[39mrange\u001b[39m(timesteps):\n\u001b[0;32m----> <a href='vscode-notebook-cell://ssh-remote%2B10.150.21.71/home/khw5218/diffusion/Scratch-Diffusion/playground.ipynb#X20sdnNjb2RlLXJlbW90ZQ%3D%3D?line=7'>8</a>\u001b[0m     im \u001b[39m=\u001b[39m plt\u001b[39m.\u001b[39mimshow(sample[i]\u001b[39m.\u001b[39;49mreshape(image_size, image_size, channels), animated\u001b[39m=\u001b[39m\u001b[39mTrue\u001b[39;00m)\n\u001b[1;32m      <a href='vscode-notebook-cell://ssh-remote%2B10.150.21.71/home/khw5218/diffusion/Scratch-Diffusion/playground.ipynb#X20sdnNjb2RlLXJlbW90ZQ%3D%3D?line=8'>9</a>\u001b[0m     ims\u001b[39m.\u001b[39mappend([im])\n\u001b[1;32m     <a href='vscode-notebook-cell://ssh-remote%2B10.150.21.71/home/khw5218/diffusion/Scratch-Diffusion/playground.ipynb#X20sdnNjb2RlLXJlbW90ZQ%3D%3D?line=10'>11</a>\u001b[0m animate \u001b[39m=\u001b[39m animation\u001b[39m.\u001b[39mArtistAnimation(fig, ims, interval\u001b[39m=\u001b[39m\u001b[39m50\u001b[39m, blit\u001b[39m=\u001b[39m\u001b[39mTrue\u001b[39;00m, repeat_delay\u001b[39m=\u001b[39m\u001b[39m1000\u001b[39m)\n",
      "\u001b[0;31mRuntimeError\u001b[0m: shape '[28, 28, 3]' is invalid for input of size 181984"
     ]
    },
    {
     "data": {
      "text/plain": [
       "<Figure size 640x480 with 0 Axes>"
      ]
     },
     "metadata": {},
     "output_type": "display_data"
    }
   ],
   "source": [
    "import matplotlib.animation as animation\n",
    "\n",
    "random_index = 53\n",
    "\n",
    "fig = plt.figure()\n",
    "ims = []\n",
    "for i in range(timesteps):\n",
    "    im = plt.imshow(sample[i].reshape(image_size, image_size, channels), animated=True)\n",
    "    ims.append([im])\n",
    "\n",
    "animate = animation.ArtistAnimation(fig, ims, interval=50, blit=True, repeat_delay=1000)\n",
    "animate.save('diffusion.gif')\n",
    "plt.show()"
   ]
  },
  {
   "cell_type": "code",
   "execution_count": null,
   "metadata": {},
   "outputs": [],
   "source": [
    "plt.imshow(sample.reshape(image_size, image_size, channels), cmap=\"gray\")"
   ]
  },
  {
   "cell_type": "code",
   "execution_count": 6,
   "metadata": {},
   "outputs": [
    {
     "name": "stdout",
     "output_type": "stream",
     "text": [
      "torch.Size([1, 4])\n",
      "torch.Size([4])\n"
     ]
    }
   ],
   "source": [
    "t = torch.tensor([[1,2,3,4]])\n",
    "print(t.size())\n",
    "\n",
    "t = torch.squeeze(t)\n",
    "print(t.size())"
   ]
  },
  {
   "cell_type": "code",
   "execution_count": 12,
   "metadata": {},
   "outputs": [
    {
     "name": "stdout",
     "output_type": "stream",
     "text": [
      "torch.Size([20, 4, 3, 28, 28])\n",
      "torch.Size([20, 3, 28, 28])\n"
     ]
    }
   ],
   "source": [
    "t = torch.randn((20, 4, 3, 28, 28))\n",
    "print(t.size())\n",
    "idx = torch.tensor([0])\n",
    "image = torch.index_select(t, 1, idx).squeeze()\n",
    "print(image.size())"
   ]
  },
  {
   "cell_type": "code",
   "execution_count": 14,
   "metadata": {},
   "outputs": [],
   "source": [
    "writer = SummaryWriter()"
   ]
  },
  {
   "cell_type": "code",
   "execution_count": 15,
   "metadata": {},
   "outputs": [],
   "source": [
    "x = torch.arange(-5, 5, 0.1).view(-1, 1)\n",
    "y = -5 * x + 0.1 * torch.randn(x.size())\n",
    "\n",
    "model = torch.nn.Linear(1, 1)\n",
    "criterion = torch.nn.MSELoss()\n",
    "optimizer = torch.optim.SGD(model.parameters(), lr = 0.1)\n",
    "\n",
    "def train_model(iter):\n",
    "    for epoch in range(iter):\n",
    "        y1 = model(x)\n",
    "        loss = criterion(y1, y)\n",
    "        writer.add_scalar(\"Loss/train\", loss, epoch)\n",
    "        optimizer.zero_grad()\n",
    "        loss.backward()\n",
    "        optimizer.step()\n",
    "\n",
    "train_model(10)\n",
    "writer.flush()"
   ]
  },
  {
   "cell_type": "code",
   "execution_count": 17,
   "metadata": {},
   "outputs": [
    {
     "name": "stdout",
     "output_type": "stream",
     "text": [
      "TensorFlow installation not found - running with reduced feature set.\n",
      "\n",
      "NOTE: Using experimental fast data loading logic. To disable, pass\n",
      "    \"--load_fast=false\" and report issues on GitHub. More details:\n",
      "    https://github.com/tensorflow/tensorboard/issues/4784\n",
      "\n",
      "Serving TensorBoard on localhost; to expose to the network, use a proxy or pass --bind_all\n",
      "TensorBoard 2.15.1 at http://localhost:6009/ (Press CTRL+C to quit)\n",
      "^C\n"
     ]
    }
   ],
   "source": [
    "!tensorboard --logdir=runs --port=6009"
   ]
  },
  {
   "cell_type": "code",
   "execution_count": 13,
   "metadata": {},
   "outputs": [
    {
     "name": "stdout",
     "output_type": "stream",
     "text": [
      "[16, 32, 64, 128, 256]\n",
      "[(16, 32), (32, 64), (64, 128), (128, 256)]\n",
      "[16, 32, 64, 128]\n",
      "[32, 64, 128, 256]\n"
     ]
    }
   ],
   "source": [
    "init_dim = 16\n",
    "dim = 32\n",
    "dim_mults = (1,2,4,8)\n",
    "dims = [init_dim, *map(lambda m: dim * m, dim_mults)]\n",
    "print(dims)\n",
    "in_out = list(zip(dims[:-1], dims[1:]))\n",
    "print(in_out)\n",
    "\n",
    "print(dims[:-1])\n",
    "print(dims[1:])"
   ]
  },
  {
   "cell_type": "code",
   "execution_count": null,
   "metadata": {},
   "outputs": [],
   "source": []
  },
  {
   "cell_type": "code",
   "execution_count": null,
   "metadata": {},
   "outputs": [],
   "source": []
  },
  {
   "cell_type": "code",
   "execution_count": null,
   "metadata": {},
   "outputs": [],
   "source": []
  }
 ],
 "metadata": {
  "kernelspec": {
   "display_name": "diffusion",
   "language": "python",
   "name": "python3"
  },
  "language_info": {
   "codemirror_mode": {
    "name": "ipython",
    "version": 3
   },
   "file_extension": ".py",
   "mimetype": "text/x-python",
   "name": "python",
   "nbconvert_exporter": "python",
   "pygments_lexer": "ipython3",
   "version": "3.9.18"
  },
  "orig_nbformat": 4
 },
 "nbformat": 4,
 "nbformat_minor": 2
}
